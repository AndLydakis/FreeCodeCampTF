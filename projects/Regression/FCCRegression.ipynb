{
  "nbformat": 4,
  "nbformat_minor": 0,
  "metadata": {
    "colab": {
      "name": "FCCRegression.ipynb",
      "provenance": [],
      "private_outputs": true,
      "collapsed_sections": [],
      "toc_visible": true
    },
    "kernelspec": {
      "display_name": "Python 3",
      "name": "python3"
    },
    "accelerator": "GPU"
  },
  "cells": [
    {
      "cell_type": "markdown",
      "metadata": {
        "id": "M9TX15KOkPBV",
        "colab_type": "text"
      },
      "source": [
        "*Note: You are currently reading this using Google Colaboratory which is a cloud-hosted version of Jupyter Notebook. This is a document containing both text cells for documentation and runnable code cells. If you are unfamiliar with Jupyter Notebook, watch this 3-minute introduction before starting this challenge: https://www.youtube.com/watch?v=inN8seMm7UI*\n",
        "\n",
        "---\n",
        "\n",
        "In this challenge, you will predict healthcare costs using a regression algorithm.\n",
        "\n",
        "You are given a dataset that contains information about different people including their healthcare costs. Use the data to predict healthcare costs based on new data.\n",
        "\n",
        "The first two cells of this notebook import libraries and the data.\n",
        "\n",
        "Make sure to convert categorical data to numbers. Use 80% of the data as the `train_dataset` and 20% of the data as the `test_dataset`.\n",
        "\n",
        "`pop` off the \"expenses\" column from these datasets to create new datasets called `train_labels` and `test_labels`. Use these labels when training your model.\n",
        "\n",
        "Create a model and train it with the `train_dataset`. Run the final cell in this notebook to check your model. The final cell will use the unseen `test_dataset` to check how well the model generalizes.\n",
        "\n",
        "To pass the challenge, `model.evaluate` must return a Mean Absolute Error of under 3500. This means it predicts health care costs correctly within $3500.\n",
        "\n",
        "The final cell will also predict expenses using the `test_dataset` and graph the results."
      ]
    },
    {
      "cell_type": "code",
      "metadata": {
        "colab_type": "code",
        "id": "1rRo8oNqZ-Rj",
        "colab": {}
      },
      "source": [
        "# Import libraries. You may or may not use all of these.\n",
        "!pip install -q git+https://github.com/tensorflow/docs\n",
        "import matplotlib.pyplot as plt\n",
        "import numpy as np\n",
        "import pandas as pd\n",
        "\n",
        "try:\n",
        "  # %tensorflow_version only exists in Colab.\n",
        "  %tensorflow_version 2.x\n",
        "except Exception:\n",
        "  pass\n",
        "import tensorflow as tf\n",
        "\n",
        "from tensorflow import keras\n",
        "from tensorflow.keras import layers\n",
        "\n",
        "import tensorflow_docs as tfdocs\n",
        "import tensorflow_docs.plots\n",
        "import tensorflow_docs.modeling\n",
        "\n",
        "from sklearn.model_selection import train_test_split"
      ],
      "execution_count": null,
      "outputs": []
    },
    {
      "cell_type": "code",
      "metadata": {
        "colab_type": "code",
        "id": "CiX2FI4gZtTt",
        "colab": {}
      },
      "source": [
        "# Import data\n",
        "dataset_path = keras.utils.get_file(\"insurance.csv\", \"https://cdn.freecodecamp.org/project-data/health-costs/insurance.csv\")\n",
        "dataset = pd.read_csv(dataset_path)\n",
        "dataset.tail()\n"
      ],
      "execution_count": null,
      "outputs": []
    },
    {
      "cell_type": "code",
      "metadata": {
        "colab_type": "code",
        "id": "LcopvQh3X-kX",
        "colab": {}
      },
      "source": [
        "dataset_copy = dataset.copy()\n",
        "print(dataset_copy.head())\n",
        "CATEGORICAL_COLUMNS = ['smoker', 'region', 'sex']\n",
        "NUMERICAL_COLUMNS = ['age', 'bmi', 'children']\n",
        "# convert categorical to codes\n",
        "for cat_col in CATEGORICAL_COLUMNS:\n",
        "  dataset_copy[cat_col] = pd.Categorical(dataset_copy[cat_col])\n",
        "  dataset_copy[cat_col] = dataset_copy[cat_col].cat.codes\n",
        "print('After categorical column conversion')\n",
        "print(dataset_copy.head())\n",
        "print('Get Targets')\n",
        "target = dataset_copy.pop('expenses')\n",
        "print(dataset_copy.head())\n",
        "print(target.head())\n",
        "\n",
        "tf_dataset = tf.data.Dataset.from_tensor_slices((dataset_copy.values, target.values))\n",
        "\n",
        "DATASET_SIZE = tf.data.experimental.cardinality(tf_dataset).numpy()\n",
        "BATCH_SIZE = 32 \n",
        "\n",
        "TRAIN_SIZE = int(0.7 * DATASET_SIZE)\n",
        "VAL_SIZE = int(0.15 * DATASET_SIZE)\n",
        "TEST_SIZE = int(0.15 * DATASET_SIZE)\n",
        "\n",
        "full_dataset = tf_dataset.shuffle(DATASET_SIZE, reshuffle_each_iteration=False)\n",
        "train_dataset = full_dataset.take(TRAIN_SIZE).repeat().batch(BATCH_SIZE)\n",
        "test_dataset = full_dataset.skip(TRAIN_SIZE)\n",
        "val_dataset = test_dataset.skip(VAL_SIZE).repeat().batch(BATCH_SIZE)\n",
        "test_dataset = test_dataset.take(TEST_SIZE).repeat().batch(BATCH_SIZE)\n"
      ],
      "execution_count": null,
      "outputs": []
    },
    {
      "cell_type": "code",
      "metadata": {
        "id": "a5xmWOkfd2RW",
        "colab_type": "code",
        "colab": {}
      },
      "source": [
        "dataset_copy = dataset.copy()\n",
        "train, test = train_test_split(dataset_copy, test_size=0.2)\n",
        "train, val = train_test_split(train, test_size=0.2)\n",
        "print(len(train), 'train examples')\n",
        "print(len(val), 'validation examples')\n",
        "print(len(test), 'test examples')\n",
        "\n",
        "# Define method to create tf.data dataset from Pandas Dataframe\n",
        "# This worked with tf 2.0 but does not work with tf 2.2\n",
        "def df_to_dataset_tf_2_0(dataframe, label_column, shuffle=True, batch_size=32):\n",
        "    dataframe = dataframe.copy()\n",
        "    #labels = dataframe.pop(label_column)\n",
        "    labels = dataframe[label_column]\n",
        "\n",
        "    ds = tf.data.Dataset.from_tensor_slices((dict(dataframe), labels))\n",
        "    if shuffle:\n",
        "        ds = ds.shuffle(buffer_size=len(dataframe))\n",
        "    ds = ds.batch(batch_size)\n",
        "    return ds\n",
        "\n",
        "def df_to_dataset(dataframe, label_column, shuffle=True, batch_size=32):\n",
        "    dataframe = dataframe.copy()\n",
        "    labels = dataframe.pop(label_column)\n",
        "    #labels = dataframe[label_column]\n",
        "\n",
        "    ds = tf.data.Dataset.from_tensor_slices((dataframe.to_dict(orient='list'), labels))\n",
        "    if shuffle:\n",
        "        ds = ds.shuffle(buffer_size=len(dataframe))\n",
        "    ds = ds.batch(batch_size)\n",
        "    return ds\n",
        "\n",
        "\n",
        "batch_size = 32 # A small batch sized is used for demonstration purposes\n",
        "train_ds = df_to_dataset(train, label_column = 'expenses', batch_size=batch_size)\n",
        "val_ds = df_to_dataset(val,label_column = 'expenses',  shuffle=False, batch_size=batch_size)\n",
        "test_ds = df_to_dataset(test, label_column = 'expenses', shuffle=False, batch_size=batch_size)\n"
      ],
      "execution_count": null,
      "outputs": []
    },
    {
      "cell_type": "code",
      "metadata": {
        "id": "NeYn10sobxYe",
        "colab_type": "code",
        "colab": {}
      },
      "source": [
        "feature_columns = []\n",
        "feature_layer_inputs = {}\n",
        "\n",
        "def normalizer(feature):\n",
        "  def minmax(x):\n",
        "    mini = dataset_copy[feature].min()\n",
        "    maxi = dataset_copy[feature].max()\n",
        "    return (x - mini)/(maxi-mini)\n",
        "  return(minmax)\n",
        "\n",
        "for header in CATEGORICAL_COLUMNS:\n",
        "  vocabulary = dataset_copy[header].unique()\n",
        "  cat_c = tf.feature_column.categorical_column_with_vocabulary_list(header, vocabulary)\n",
        "  one_hot = tf.feature_column.indicator_column(cat_c)\n",
        "  feature_columns.append(one_hot)\n",
        "  feature_layer_inputs[header] = tf.keras.Input(shape=(1,), name=header, dtype=tf.string)\n",
        "\n",
        "for header in NUMERICAL_COLUMNS:\n",
        "  normalizer_fn = normalizer(header)\n",
        "  feature_columns.append(tf.feature_column.numeric_column(header, normalizer_fn=normalizer_fn))\n",
        "  feature_layer_inputs[header] = tf.keras.Input(shape=(1,), name=header)\n",
        "\n",
        "\n",
        "feature_layer = tf.keras.layers.DenseFeatures(feature_columns)\n",
        "feature_layer_outputs = feature_layer(feature_layer_inputs)\n",
        "x = layers.Dense(128, activation='relu')(feature_layer_outputs)\n",
        "x = layers.Dense(64, activation='relu')(x)\n",
        "pred = layers.Dense(1)(x)\n",
        "\n",
        "model = keras.Model(inputs=[v for v in feature_layer_inputs.values()], outputs=pred)\n",
        "\n",
        "model.compile(optimizer='rmsprop',\n",
        "              loss='mse',\n",
        "              metrics=['mae', 'mse'])\n",
        "\n",
        "model.fit(train_ds, epochs=1000)"
      ],
      "execution_count": null,
      "outputs": []
    },
    {
      "cell_type": "code",
      "metadata": {
        "colab_type": "code",
        "id": "Xe7RXH3N3CWU",
        "colab": {}
      },
      "source": [
        "# RUN THIS CELL TO TEST YOUR MODEL. DO NOT MODIFY CONTENTS.\n",
        "# Test model by checking how well the model generalizes using the test set.\n",
        "loss, mae, mse = model.evaluate(test_ds, verbose=2)\n",
        "\n",
        "print(\"Testing set Mean Abs Error: {:5.2f} expenses\".format(mae))\n",
        "\n",
        "if mae < 3500:\n",
        "  print(\"You passed the challenge. Great job!\")\n",
        "else:\n",
        "  print(\"The Mean Abs Error must be less than 3500. Keep trying.\")\n",
        "\n",
        "# Plot predictions.\n",
        "test_predictions = model.predict(test_ds).flatten()\n",
        "\n",
        "a = plt.axes(aspect='equal')\n",
        "plt.scatter(test_labels, test_predictions)\n",
        "plt.xlabel('True values (expenses)')\n",
        "plt.ylabel('Predictions (expenses)')\n",
        "lims = [0, 50000]\n",
        "plt.xlim(lims)\n",
        "plt.ylim(lims)\n",
        "_ = plt.plot(lims,lims)\n"
      ],
      "execution_count": null,
      "outputs": []
    },
    {
      "cell_type": "code",
      "metadata": {
        "id": "JSBhNLnBbvjz",
        "colab_type": "code",
        "colab": {}
      },
      "source": [
        ""
      ],
      "execution_count": null,
      "outputs": []
    }
  ]
}