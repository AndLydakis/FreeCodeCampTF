{
 "nbformat": 4,
 "nbformat_minor": 0,
 "metadata": {
  "colab": {
   "name": "FCCSmsClassification.ipynb",
   "provenance": [],
   "private_outputs": true,
   "collapsed_sections": [],
   "toc_visible": true
  },
  "kernelspec": {
   "display_name": "Python 3",
   "name": "python3"
  }
 },
 "cells": [
  {
   "cell_type": "markdown",
   "metadata": {
    "colab_type": "text",
    "id": "Eg62Pmz3o83v"
   },
   "source": [
    "*Note: You are currently reading this using Google Colaboratory which is a cloud-hosted version of Jupyter Notebook. This is a document containing both text cells for documentation and runnable code cells. If you are unfamiliar with Jupyter Notebook, watch this 3-minute introduction before starting this challenge: https://www.youtube.com/watch?v=inN8seMm7UI*\n",
    "\n",
    "---\n",
    "\n",
    "In this challenge, you need to create a machine learning model that will classify SMS messages as either \"ham\" or \"spam\". A \"ham\" message is a normal message sent by a friend. A \"spam\" message is an advertisement or a message sent by a company.\n",
    "\n",
    "You should create a function called `predict_message` that takes a message string as an argument and returns a list. The first element in the list should be a number between zero and one that indicates the likeliness of \"ham\" (0) or \"spam\" (1). The second element in the list should be the word \"ham\" or \"spam\", depending on which is most likely.\n",
    "\n",
    "For this challenge, you will use the [SMS Spam Collection dataset](http://www.dt.fee.unicamp.br/~tiago/smsspamcollection/). The dataset has already been grouped into train data and test data.\n",
    "\n",
    "The first two cells import the libraries and data. The final cell tests your model and function. Add your code in between these cells.\n"
   ]
  },
  {
   "cell_type": "code",
   "metadata": {
    "colab_type": "code",
    "id": "8RZOuS9LWQvv",
    "colab": {}
   },
   "source": [
    "# import libraries\n",
    "try:\n",
    "  # %tensorflow_version only exists in Colab.\n",
    "  !pip install tf-nightly\n",
    "except Exception:\n",
    "  pass\n",
    "import tensorflow as tf\n",
    "import pandas as pd\n",
    "from tensorflow import keras\n",
    "!pip install tensorflow-datasets\n",
    "import tensorflow_datasets as tfds\n",
    "import numpy as np\n",
    "import matplotlib.pyplot as plt\n",
    "\n",
    "print(tf.__version__)"
   ],
   "execution_count": null,
   "outputs": []
  },
  {
   "cell_type": "code",
   "metadata": {
    "id": "lMHwYXHXCar3",
    "colab_type": "code",
    "colab": {}
   },
   "source": [
    "# get data files\n",
    "TRAIN_DATA_URL = \"https://raw.githubusercontent.com/beaucarnes/fcc_python_curriculum/master/sms/train-data.tsv\"\n",
    "TEST_DATA_URL = \"https://raw.githubusercontent.com/beaucarnes/fcc_python_curriculum/master/sms/valid-data.tsv\"\n",
    "\n",
    "train_file_path = tf.keras.utils.get_file(\"train-data.tsv\", TRAIN_DATA_URL)\n",
    "test_file_path = tf.keras.utils.get_file(\"valid-data.tsv\", TEST_DATA_URL)"
   ],
   "execution_count": null,
   "outputs": []
  },
  {
   "cell_type": "code",
   "metadata": {
    "id": "jMD8RDw4zm9y",
    "colab_type": "code",
    "colab": {}
   },
   "source": [
    "import matplotlib.pyplot as plt\n",
    "plt.style.use('ggplot')\n",
    "\n",
    "def plot_history(history):\n",
    "    acc = history.history['accuracy']\n",
    "    val_acc = history.history['val_accuracy']\n",
    "    loss = history.history['loss']\n",
    "    val_loss = history.history['val_loss']\n",
    "    x = range(1, len(acc) + 1)\n",
    "\n",
    "    plt.figure(figsize=(12, 5))\n",
    "    plt.subplot(1, 2, 1)\n",
    "    plt.plot(x, acc, 'b', label='Training acc')\n",
    "    plt.plot(x, val_acc, 'r', label='Validation acc')\n",
    "    plt.title('Training and validation accuracy')\n",
    "    plt.legend()\n",
    "    plt.subplot(1, 2, 2)\n",
    "    plt.plot(x, loss, 'b', label='Training loss')\n",
    "    plt.plot(x, val_loss, 'r', label='Validation loss')\n",
    "    plt.title('Training and validation loss')\n",
    "    plt.legend()\n"
   ],
   "execution_count": null,
   "outputs": []
  },
  {
   "cell_type": "code",
   "metadata": {
    "id": "g_h508FEClxO",
    "colab_type": "code",
    "colab": {}
   },
   "source": [
    "train_data_frame = pd.read_csv(train_file_path, sep='\\t',names=[\"class\", \"text\"], error_bad_lines=False)\n",
    "test_data_frame = pd.read_csv(test_file_path, sep='\\t',names=[\"class\", \"text\"], error_bad_lines=False)\n",
    "\n",
    "train_data_frame_copy = train_data_frame.copy()\n",
    "test_data_frame_copy = test_data_frame.copy()\n",
    "\n",
    "print(train_data_frame_copy.tail())\n",
    "print(test_data_frame_copy.tail())\n",
    "\n",
    "from sklearn.model_selection import train_test_split\n",
    "\n",
    "train_data_frame_copy, val_data_frame_copy = train_test_split(train_data_frame_copy, test_size=0.2)\n",
    "\n",
    "train_data_frame_copy['class'] = pd.Categorical(train_data_frame_copy['class'])\n",
    "train_data_frame_copy['class'] = train_data_frame_copy['class'].cat.codes\n",
    "\n",
    "val_data_frame_copy['class'] = pd.Categorical(val_data_frame_copy['class'])\n",
    "val_data_frame_copy['class'] = val_data_frame_copy['class'].cat.codes\n",
    "\n",
    "test_data_frame_copy['class'] = pd.Categorical(test_data_frame_copy['class'])\n",
    "test_data_frame_copy['class'] = test_data_frame_copy['class'].cat.codes\n",
    "\n",
    "# print(train_data_frame_copy.columns)\n",
    "# train_target = train_data_frame_copy.pop('class')\n",
    "# print(train_data_frame_copy.tail(), train_data_frame_copy.shape)\n",
    "# print('----')\n",
    "# print(train_target.tail(), train_target.shape)\n",
    "# print('----')\n",
    "# test_target = test_data_frame_copy.pop('class')\n",
    "# print(test_data_frame_copy.tail(), test_data_frame_copy.shape)\n",
    "# print('----')\n",
    "# print(test_target.tail(), test_target.shape)\n",
    "# print('----')\n",
    "\n",
    "\n",
    "# train_target.plot(kind='hist', bins=2, title='Classes in train dataset')\n",
    "# test_target.plot(kind='hist', bins=2, title='Classes in test dataset')"
   ],
   "execution_count": null,
   "outputs": []
  },
  {
   "cell_type": "code",
   "metadata": {
    "colab_type": "code",
    "id": "zOMKywn4zReN",
    "colab": {}
   },
   "source": [
    "from keras.preprocessing.text import Tokenizer\n",
    "from keras.preprocessing.sequence import pad_sequences\n",
    "\n",
    "MAXLEN = 50\n",
    "BATCH_SIZE = 32 \n",
    "\n",
    "tokenizer = Tokenizer(num_words=5000)\n",
    "tokenizer.fit_on_texts(train_data_frame_copy['text'])\n",
    "\n",
    "X_train = tokenizer.texts_to_sequences(train_data_frame_copy['text'])\n",
    "X_val = tokenizer.texts_to_sequences(val_data_frame_copy['text'])\n",
    "X_test = tokenizer.texts_to_sequences(test_data_frame_copy['text'])\n",
    "\n",
    "VOCAB_SIZE = len(tokenizer.word_index) + 1\n",
    "\n",
    "print(train_data_frame_copy['text'])\n",
    "print(X_train[2])\n",
    "\n",
    "X_train = pad_sequences(X_train, padding='post', maxlen=MAXLEN)\n",
    "X_val = pad_sequences(X_val, padding='post', maxlen=MAXLEN)\n",
    "X_test = pad_sequences(X_test, padding='post', maxlen=MAXLEN)\n",
    "\n",
    "y_train = train_data_frame_copy['class']\n",
    "y_val = val_data_frame_copy['class']\n",
    "y_test = test_data_frame_copy['class']\n",
    "\n",
    "print(X_train[0, :])"
   ],
   "execution_count": null,
   "outputs": []
  },
  {
   "cell_type": "code",
   "metadata": {
    "id": "xxrQuAJ2wYNY",
    "colab_type": "code",
    "colab": {}
   },
   "source": [
    "from keras.models import Sequential\n",
    "from keras import layers\n",
    "\n",
    "EMBEDDING_DIM = 100\n",
    "\n",
    "model = Sequential()\n",
    "model.add(layers.Embedding(VOCAB_SIZE, EMBEDDING_DIM, input_length=MAXLEN))\n",
    "model.add(layers.Conv1D(128, 5, activation='relu'))\n",
    "model.add(layers.GlobalMaxPooling1D())\n",
    "model.add(layers.Dense(10, activation='relu'))\n",
    "model.add(layers.Dense(1, activation='sigmoid'))\n",
    "model.compile(optimizer='adam',\n",
    "              loss='binary_crossentropy',\n",
    "              metrics=['accuracy'])\n",
    "\n",
    "model.build((None, MAXLEN))\n",
    "model.summary()\n"
   ],
   "execution_count": null,
   "outputs": []
  },
  {
   "cell_type": "code",
   "metadata": {
    "id": "7VZSljoLytFU",
    "colab_type": "code",
    "colab": {}
   },
   "source": [
    "history = model.fit(X_train, y_train,\n",
    "                    epochs=20,\n",
    "                    verbose=1,\n",
    "                    validation_data=(X_val, y_val),\n",
    "                    batch_size=10)\n",
    "loss, accuracy = model.evaluate(X_train, y_train, verbose=False)\n",
    "print(\"Training Accuracy: {:.4f}\".format(accuracy))\n",
    "loss, accuracy = model.evaluate(X_test, y_test, verbose=False)\n",
    "print(\"Testing Accuracy:  {:.4f}\".format(accuracy))\n",
    "\n"
   ],
   "execution_count": null,
   "outputs": []
  },
  {
   "cell_type": "code",
   "metadata": {
    "id": "FovpAJ48zqDe",
    "colab_type": "code",
    "colab": {}
   },
   "source": [
    "plot_history(history)"
   ],
   "execution_count": null,
   "outputs": []
  },
  {
   "cell_type": "code",
   "metadata": {
    "id": "J9tD9yACG6M9",
    "colab_type": "code",
    "colab": {}
   },
   "source": [
    "# function to predict messages based on model\n",
    "# (should return list containing prediction and label, ex. [0.008318834938108921, 'ham'])\n",
    "def predict_message(pred_text):\n",
    "  text = tokenizer.texts_to_sequences([pred_text])\n",
    "  text = pad_sequences(text, padding='post', maxlen=MAXLEN)\n",
    "  prediction = model.predict(text)\n",
    "\n",
    "  if prediction<0.5:\n",
    "     return (prediction[0, 0], 'ham')\n",
    "  else:\n",
    "    return  (prediction[0, 0], 'spam')\n",
    "\n",
    "pred_text = \"how are you doing today?\"\n",
    "\n",
    "prediction = predict_message(pred_text)\n",
    "print(prediction)"
   ],
   "execution_count": null,
   "outputs": []
  },
  {
   "cell_type": "code",
   "metadata": {
    "id": "Dxotov85SjsC",
    "colab_type": "code",
    "colab": {}
   },
   "source": [
    "# Run this cell to test your function and model. Do not modify contents.\n",
    "def test_predictions():\n",
    "  test_messages = [\"how are you doing today\",\n",
    "                   \"sale today! to stop texts call 98912460324\",\n",
    "                   \"i dont want to go. can we try it a different day? available sat\",\n",
    "                   \"our new mobile video service is live. just install on your phone to start watching.\",\n",
    "                   \"you have won £1000 cash! call to claim your prize.\",\n",
    "                   \"i'll bring it tomorrow. don't forget the milk.\",\n",
    "                   \"wow, is your arm alright. that happened to me one time too\"\n",
    "                  ]\n",
    "\n",
    "  test_answers = [\"ham\", \"spam\", \"ham\", \"spam\", \"spam\", \"ham\", \"ham\"]\n",
    "  passed = True\n",
    "\n",
    "  for msg, ans in zip(test_messages, test_answers):\n",
    "    prediction = predict_message(msg)\n",
    "    if prediction[1] != ans:\n",
    "      print(prediction)\n",
    "      print(msg)\n",
    "      passed = False\n",
    "\n",
    "  if passed:\n",
    "    print(\"You passed the challenge. Great job!\")\n",
    "  else:\n",
    "    print(\"You haven't passed yet. Keep trying.\")\n",
    "\n",
    "test_predictions()\n"
   ],
   "execution_count": null,
   "outputs": []
  }
 ]
}