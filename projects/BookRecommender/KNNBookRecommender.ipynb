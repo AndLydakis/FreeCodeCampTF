{
  "nbformat": 4,
  "nbformat_minor": 0,
  "metadata": {
    "kernelspec": {
      "display_name": "Python 3",
      "language": "python",
      "name": "python3"
    },
    "language_info": {
      "codemirror_mode": {
        "name": "ipython",
        "version": 3
      },
      "file_extension": ".py",
      "mimetype": "text/x-python",
      "name": "python",
      "nbconvert_exporter": "python",
      "pygments_lexer": "ipython3",
      "version": "3.6.5"
    },
    "colab": {
      "name": "KNNBookRecommender.ipynb",
      "provenance": [],
      "collapsed_sections": []
    }
  },
  "cells": [
    {
      "cell_type": "markdown",
      "metadata": {
        "id": "uGd4NYQX1Rf_",
        "colab_type": "text"
      },
      "source": [
        "*Note: You are currently reading this using Google Colaboratory which is a cloud-hosted version of Jupyter Notebook. This is a document containing both text cells for documentation and runnable code cells. If you are unfamiliar with Jupyter Notebook, watch this 3-minute introduction before starting this challenge: https://www.youtube.com/watch?v=inN8seMm7UI*\n",
        "\n",
        "---\n",
        "\n",
        "In this challenge, you will create a book recommendation algorithm using **K-Nearest Neighbors**.\n",
        "\n",
        "You will use the [Book-Crossings dataset](http://www2.informatik.uni-freiburg.de/~cziegler/BX/). This dataset contains 1.1 million ratings (scale of 1-10) of 270,000 books by 90,000 users. \n",
        "\n",
        "After importing and cleaning the data, use `NearestNeighbors` from `sklearn.neighbors` to develop a model that shows books that are similar to a given book. The Nearest Neighbors algorithm measures distance to determine the “closeness” of instances.\n",
        "\n",
        "Create a function named `get_recommends` that takes a book title (from the dataset) as an argument and returns a list of 5 similar books with their distances from the book argument.\n",
        "\n",
        "This code:\n",
        "\n",
        "`get_recommends(\"The Queen of the Damned (Vampire Chronicles (Paperback))\")`\n",
        "\n",
        "should return:\n",
        "\n",
        "```\n",
        "[\n",
        "  'The Queen of the Damned (Vampire Chronicles (Paperback))',\n",
        "  [\n",
        "    ['Catch 22', 0.793983519077301], \n",
        "    ['The Witching Hour (Lives of the Mayfair Witches)', 0.7448656558990479], \n",
        "    ['Interview with the Vampire', 0.7345068454742432],\n",
        "    ['The Tale of the Body Thief (Vampire Chronicles (Paperback))', 0.5376338362693787],\n",
        "    ['The Vampire Lestat (Vampire Chronicles, Book II)', 0.5178412199020386]\n",
        "  ]\n",
        "]\n",
        "```\n",
        "\n",
        "Notice that the data returned from `get_recommends()` is a list. The first element in the list is the book title passed in to the function. The second element in the list is a list of five more lists. Each of the five lists contains a recommended book and the distance from the recommended book to the book passed in to the function.\n",
        "\n",
        "If you graph the dataset (optional), you will notice that most books are not rated frequently. To ensure statistical significance, remove from the dataset users with less than 200 ratings and books with less than 100 ratings.\n",
        "\n",
        "The first three cells import libraries you may need and the data to use. The final cell is for testing. Write all your code in between those cells."
      ]
    },
    {
      "cell_type": "code",
      "metadata": {
        "id": "Y1onB6kUvo4Z",
        "colab_type": "code",
        "colab": {}
      },
      "source": [
        "# import libraries (you may add additional imports but you may not have to)\n",
        "import numpy as np\n",
        "import pandas as pd\n",
        "from scipy.sparse import csr_matrix\n",
        "from sklearn.neighbors import NearestNeighbors\n",
        "import matplotlib.pyplot as plt"
      ],
      "execution_count": null,
      "outputs": []
    },
    {
      "cell_type": "code",
      "metadata": {
        "id": "iAQGqqO_vo4d",
        "colab_type": "code",
        "colab": {
          "base_uri": "https://localhost:8080/",
          "height": 272
        },
        "outputId": "a0f00ad2-4d9e-4f11-d5de-094343533e2d"
      },
      "source": [
        "# get data files\n",
        "!wget https://cdn.freecodecamp.org/project-data/books/book-crossings.zip\n",
        "\n",
        "!unzip book-crossings.zip\n",
        "\n",
        "books_filename = 'BX-Books.csv'\n",
        "ratings_filename = 'BX-Book-Ratings.csv'"
      ],
      "execution_count": null,
      "outputs": [
        {
          "output_type": "stream",
          "text": [
            "--2020-09-06 09:46:35--  https://cdn.freecodecamp.org/project-data/books/book-crossings.zip\n",
            "Resolving cdn.freecodecamp.org (cdn.freecodecamp.org)... 206.189.73.52, 167.172.221.254, 2604:a880:2:d0::21e9:c001, ...\n",
            "Connecting to cdn.freecodecamp.org (cdn.freecodecamp.org)|206.189.73.52|:443... connected.\n",
            "HTTP request sent, awaiting response... 200 OK\n",
            "Length: 26085508 (25M) [application/zip]\n",
            "Saving to: ‘book-crossings.zip’\n",
            "\n",
            "book-crossings.zip  100%[===================>]  24.88M  3.22MB/s    in 7.8s    \n",
            "\n",
            "2020-09-06 09:46:43 (3.21 MB/s) - ‘book-crossings.zip’ saved [26085508/26085508]\n",
            "\n",
            "Archive:  book-crossings.zip\n",
            "  inflating: BX-Book-Ratings.csv     \n",
            "  inflating: BX-Books.csv            \n",
            "  inflating: BX-Users.csv            \n"
          ],
          "name": "stdout"
        }
      ]
    },
    {
      "cell_type": "code",
      "metadata": {
        "id": "NClILWOiEd6Q",
        "colab_type": "code",
        "colab": {}
      },
      "source": [
        "# import csv data into dataframes\n",
        "df_books = pd.read_csv(\n",
        "    books_filename,\n",
        "    encoding = \"ISO-8859-1\",\n",
        "    sep=\";\",\n",
        "    header=0,\n",
        "    names=['isbn', 'title', 'author'],\n",
        "    usecols=['isbn', 'title', 'author'],\n",
        "    dtype={'isbn': 'str', 'title': 'str', 'author': 'str'})\n",
        "\n",
        "df_ratings = pd.read_csv(\n",
        "    ratings_filename,\n",
        "    encoding = \"ISO-8859-1\",\n",
        "    sep=\";\",\n",
        "    header=0,\n",
        "    names=['user', 'isbn', 'rating'],\n",
        "    usecols=['user', 'isbn', 'rating'],\n",
        "    dtype={'user': 'int32', 'isbn': 'str', 'rating': 'float32'})"
      ],
      "execution_count": null,
      "outputs": []
    },
    {
      "cell_type": "code",
      "metadata": {
        "id": "xAcXjkCFCh0A",
        "colab_type": "code",
        "colab": {
          "base_uri": "https://localhost:8080/",
          "height": 1000
        },
        "outputId": "bd60557e-6b35-4802-8ad2-315af1462208"
      },
      "source": [
        "# add your code here - consider creating a new cell for each section of code\n",
        "print(df_books.columns)\n",
        "print(df_books.shape)\n",
        "print(df_ratings.columns)\n",
        "pd.set_option(\"display.max_rows\", 10, \"display.max_columns\", 10)\n",
        "\n",
        "%matplotlib inline\n",
        "plt.figure()\n",
        "plt.rc('font', size=15)\n",
        "df_ratings.rating.value_counts(sort=False).plot(kind='bar')\n",
        "plt.title('Rating Distribution')\n",
        "plt.xlabel('Rating')\n",
        "plt.ylabel('Count')\n",
        "plt.show()\n",
        "df = df_ratings\n",
        "# get ratings per user\n",
        "ratings_counts = df['user'].value_counts()\n",
        "# remove users with less than 200 reviews\n",
        "filtered_ratigns = df[df['user'].isin(counts1[counts1 >= 200].index)]\n",
        "# get ratings per book\n",
        "isbn_counts = df['isbn'].value_counts()\n",
        "# remove books with fewer than 100 ratings\n",
        "filtered_ratigns = filtered_ratigns[filtered_ratigns['isbn'].isin(counts2[counts2 >= 100].index)]\n",
        "# merge ratings and books dataframes\n",
        "pd.set_option(\"display.max_rows\", 100, \"display.max_columns\", 10)\n",
        "print('Merge ratings and books')\n",
        "filtered_df = pd.merge(right=filtered_ratings, left = df_books, on=\"isbn\")\n",
        "print(filtered_df.columns)\n",
        "print(filtered_df.shape)\n",
        "# if users have rated tha same book with a different isbn keep only first rating\n",
        "print('Remove duplicates')\n",
        "filtered_df = filtered_df.drop_duplicates(subset=[\"title\", \"user\"], keep='first')\n",
        "print(filtered_df.shape)\n",
        "print('filtered DF')\n",
        "pd.set_option(\"display.max_rows\", 10, \"display.max_columns\", 10)\n",
        "print(filtered_df.columns)\n",
        "print(filtered_df.head)\n",
        "# create pivot table\n",
        "print('Pivot table')\n",
        "pivot = filtered_df.pivot_table(index='title', columns='user', values='rating').fillna(0)\n",
        "print(pivot.columns)\n",
        "print(pivot.head)\n",
        "\n",
        "cor_mat = csr_matrix(pivot.values)\n",
        "print(cor_mat.shape)\n",
        "\n",
        "from sklearn.neighbors import NearestNeighbors\n",
        "\n",
        "model_knn = NearestNeighbors(metric = 'cosine', algorithm = 'brute')\n",
        "model_knn.fit(piv)\n",
        "\n"
      ],
      "execution_count": null,
      "outputs": [
        {
          "output_type": "stream",
          "text": [
            "Index(['isbn', 'title', 'author'], dtype='object')\n",
            "(271379, 3)\n",
            "Index(['user', 'isbn', 'rating'], dtype='object')\n"
          ],
          "name": "stdout"
        },
        {
          "output_type": "display_data",
          "data": {
            "image/png": "[encoded data removed]",
            "text/plain": [
              "<Figure size 432x288 with 1 Axes>"
            ]
          },
          "metadata": {
            "tags": [],
            "needs_background": "light"
          }
        },
        {
          "output_type": "stream",
          "text": [
            "Merge ratings and books\n",
            "Index(['isbn', 'title', 'author', 'title_x', 'author_x', 'user', 'rating',\n",
            "       'title_y', 'author_y'],\n",
            "      dtype='object')\n",
            "(12304, 9)\n",
            "Remove duplicates\n",
            "(12304, 9)\n",
            "filtered DF\n",
            "Index(['isbn', 'title', 'author', 'title_x', 'author_x', 'user', 'rating',\n",
            "       'title_y', 'author_y'],\n",
            "      dtype='object')\n",
            "<bound method NDFrame.head of              isbn                                              title  \\\n",
            "0      0440234743                                      The Testament   \n",
            "1      0440234743                                      The Testament   \n",
            "2      0440234743                                      The Testament   \n",
            "3      0440234743                                      The Testament   \n",
            "4      0440234743                                      The Testament   \n",
            "...           ...                                                ...   \n",
            "12299  0553280341  B Is for Burglar (Kinsey Millhone Mysteries (P...   \n",
            "12300  0553280341  B Is for Burglar (Kinsey Millhone Mysteries (P...   \n",
            "12301  0553280341  B Is for Burglar (Kinsey Millhone Mysteries (P...   \n",
            "12302  0553280341  B Is for Burglar (Kinsey Millhone Mysteries (P...   \n",
            "12303  0553280341  B Is for Burglar (Kinsey Millhone Mysteries (P...   \n",
            "\n",
            "             author                                            title_x  \\\n",
            "0      John Grisham                                      The Testament   \n",
            "1      John Grisham                                      The Testament   \n",
            "2      John Grisham                                      The Testament   \n",
            "3      John Grisham                                      The Testament   \n",
            "4      John Grisham                                      The Testament   \n",
            "...             ...                                                ...   \n",
            "12299   Sue Grafton  B Is for Burglar (Kinsey Millhone Mysteries (P...   \n",
            "12300   Sue Grafton  B Is for Burglar (Kinsey Millhone Mysteries (P...   \n",
            "12301   Sue Grafton  B Is for Burglar (Kinsey Millhone Mysteries (P...   \n",
            "12302   Sue Grafton  B Is for Burglar (Kinsey Millhone Mysteries (P...   \n",
            "12303   Sue Grafton  B Is for Burglar (Kinsey Millhone Mysteries (P...   \n",
            "\n",
            "           author_x    user  rating  \\\n",
            "0      John Grisham    2977     0.0   \n",
            "1      John Grisham    3363     0.0   \n",
            "2      John Grisham    7346     9.0   \n",
            "3      John Grisham   11676     9.0   \n",
            "4      John Grisham   13552     8.0   \n",
            "...             ...     ...     ...   \n",
            "12299   Sue Grafton  265115     0.0   \n",
            "12300   Sue Grafton  268032     8.0   \n",
            "12301   Sue Grafton  268330     0.0   \n",
            "12302   Sue Grafton  269566     0.0   \n",
            "12303   Sue Grafton  274301    10.0   \n",
            "\n",
            "                                                 title_y      author_y  \n",
            "0                                          The Testament  John Grisham  \n",
            "1                                          The Testament  John Grisham  \n",
            "2                                          The Testament  John Grisham  \n",
            "3                                          The Testament  John Grisham  \n",
            "4                                          The Testament  John Grisham  \n",
            "...                                                  ...           ...  \n",
            "12299  B Is for Burglar (Kinsey Millhone Mysteries (P...   Sue Grafton  \n",
            "12300  B Is for Burglar (Kinsey Millhone Mysteries (P...   Sue Grafton  \n",
            "12301  B Is for Burglar (Kinsey Millhone Mysteries (P...   Sue Grafton  \n",
            "12302  B Is for Burglar (Kinsey Millhone Mysteries (P...   Sue Grafton  \n",
            "12303  B Is for Burglar (Kinsey Millhone Mysteries (P...   Sue Grafton  \n",
            "\n",
            "[12304 rows x 9 columns]>\n",
            "Pivot table\n",
            "Int64Index([   254,   2276,   2766,   2977,   3363,   4017,   4385,   6251,\n",
            "              6323,   6543,\n",
            "            ...\n",
            "            271705, 273979, 274004, 274061, 274301, 274308, 275970, 277427,\n",
            "            277639, 278418],\n",
            "           dtype='int64', name='user', length=785)\n",
            "<bound method NDFrame.head of user                                                254     2276    2766    \\\n",
            "title                                                                        \n",
            "1st to Die: A Novel                                    0.0     0.0     0.0   \n",
            "A Is for Alibi (Kinsey Millhone Mysteries (Pape...     0.0     0.0     7.0   \n",
            "A Map of the World                                     0.0     0.0     0.0   \n",
            "A Painted House                                        0.0     0.0     0.0   \n",
            "A Prayer for Owen Meany                                0.0     0.0     0.0   \n",
            "...                                                    ...     ...     ...   \n",
            "Where the Heart Is (Oprah's Book Club (Paperback))     0.0     0.0     0.0   \n",
            "While I Was Gone                                       0.0     0.0     0.0   \n",
            "White Oleander : A Novel (Oprah's Book Club)           0.0     0.0     0.0   \n",
            "Wicked: The Life and Times of the Wicked Witch ...     0.0     0.0     0.0   \n",
            "Wild Animus                                            0.0     0.0     6.0   \n",
            "\n",
            "user                                                2977    3363    ...  \\\n",
            "title                                                               ...   \n",
            "1st to Die: A Novel                                    0.0     0.0  ...   \n",
            "A Is for Alibi (Kinsey Millhone Mysteries (Pape...     0.0     0.0  ...   \n",
            "A Map of the World                                     0.0     0.0  ...   \n",
            "A Painted House                                        0.0     0.0  ...   \n",
            "A Prayer for Owen Meany                                0.0     0.0  ...   \n",
            "...                                                    ...     ...  ...   \n",
            "Where the Heart Is (Oprah's Book Club (Paperback))     0.0    10.0  ...   \n",
            "While I Was Gone                                       0.0     0.0  ...   \n",
            "White Oleander : A Novel (Oprah's Book Club)           0.0     0.0  ...   \n",
            "Wicked: The Life and Times of the Wicked Witch ...     0.0     0.0  ...   \n",
            "Wild Animus                                            0.0     0.0  ...   \n",
            "\n",
            "user                                                274308  275970  277427  \\\n",
            "title                                                                        \n",
            "1st to Die: A Novel                                    0.0     0.0     0.0   \n",
            "A Is for Alibi (Kinsey Millhone Mysteries (Pape...     0.0     0.0     0.0   \n",
            "A Map of the World                                     0.0     0.0     0.0   \n",
            "A Painted House                                        0.0     0.0     0.0   \n",
            "A Prayer for Owen Meany                                0.0     0.0     0.0   \n",
            "...                                                    ...     ...     ...   \n",
            "Where the Heart Is (Oprah's Book Club (Paperback))     0.0     0.0     0.0   \n",
            "While I Was Gone                                       0.0     0.0     0.0   \n",
            "White Oleander : A Novel (Oprah's Book Club)           0.0     0.0     0.0   \n",
            "Wicked: The Life and Times of the Wicked Witch ...     0.0     0.0     0.0   \n",
            "Wild Animus                                            0.0     0.0     0.0   \n",
            "\n",
            "user                                                277639  278418  \n",
            "title                                                               \n",
            "1st to Die: A Novel                                    0.0     0.0  \n",
            "A Is for Alibi (Kinsey Millhone Mysteries (Pape...     0.0     0.0  \n",
            "A Map of the World                                     0.0     0.0  \n",
            "A Painted House                                        0.0     0.0  \n",
            "A Prayer for Owen Meany                                0.0     0.0  \n",
            "...                                                    ...     ...  \n",
            "Where the Heart Is (Oprah's Book Club (Paperback))     0.0     0.0  \n",
            "While I Was Gone                                       0.0     0.0  \n",
            "White Oleander : A Novel (Oprah's Book Club)           0.0     0.0  \n",
            "Wicked: The Life and Times of the Wicked Witch ...     0.0     0.0  \n",
            "Wild Animus                                            0.0     0.0  \n",
            "\n",
            "[90 rows x 785 columns]>\n",
            "(90, 785)\n"
          ],
          "name": "stdout"
        },
        {
          "output_type": "execute_result",
          "data": {
            "text/plain": [
              "NearestNeighbors(algorithm='brute', leaf_size=30, metric='cosine',\n",
              "                 metric_params=None, n_jobs=None, n_neighbors=5, p=2,\n",
              "                 radius=1.0)"
            ]
          },
          "metadata": {
            "tags": []
          },
          "execution_count": 139
        }
      ]
    },
    {
      "cell_type": "code",
      "metadata": {
        "id": "f5ZUd-L1SQz7",
        "colab_type": "code",
        "colab": {
          "base_uri": "https://localhost:8080/",
          "height": 119
        },
        "outputId": "19880a81-6ddc-464a-a701-e5fe3196c576"
      },
      "source": [
        "# function to return recommended books - this will be tested\n",
        "def get_recommends(book = \"\"):\n",
        "\n",
        "  query_index = piv.index.get_loc(book)\n",
        "  #use model nearest neighbors.\n",
        "  distances, indices = model_knn.kneighbors(piv.iloc[query_index,:].values.reshape(1, -1), n_neighbors=6)\n",
        "\n",
        "    \n",
        "\n",
        "  # print(indices)\n",
        "  recommended_books = [book, []]\n",
        "  for dist, idx in zip(distances.flatten()[1:], indices.flatten()[1:]):\n",
        "    print(idx, piv.index[idx], dist)\n",
        "    recommended_books[1].append([piv.index[idx], float(dist)])\n",
        "  recommended_books[1] = [i for i in reversed(recommended_books[1])]\n",
        "  return recommended_books\n",
        "\n",
        "print(get_recommends(\"Where the Heart Is (Oprah's Book Club (Paperback))\")[0])"
      ],
      "execution_count": null,
      "outputs": [
        {
          "output_type": "stream",
          "text": [
            "539 The Lovely Bones: A Novel 0.7234864\n",
            "240 I Know This Much Is True 0.7677075\n",
            "597 The Surgeon 0.7699411\n",
            "614 The Weight of Water 0.77085835\n",
            "243 I'll Be Seeing You 0.8016211\n",
            "Where the Heart Is (Oprah's Book Club (Paperback))\n"
          ],
          "name": "stdout"
        }
      ]
    },
    {
      "cell_type": "markdown",
      "metadata": {
        "id": "eat9A2TKawHU",
        "colab_type": "text"
      },
      "source": [
        "Use the cell below to test your function. The `test_book_recommendation()` function will inform you if you passed the challenge or need to keep trying."
      ]
    },
    {
      "cell_type": "code",
      "metadata": {
        "id": "jd2SLCh8oxMh",
        "colab_type": "code",
        "colab": {
          "base_uri": "https://localhost:8080/",
          "height": 238
        },
        "outputId": "427abc0c-7533-4b5c-f8f2-41537f040307"
      },
      "source": [
        "books = get_recommends(\"Where the Heart Is (Oprah's Book Club (Paperback))\")\n",
        "print(books[0])\n",
        "print(books[1])\n",
        "\n",
        "def test_book_recommendation():\n",
        "  test_pass = True\n",
        "  recommends = get_recommends(\"Where the Heart Is (Oprah's Book Club (Paperback))\")\n",
        "  if recommends[0] != \"Where the Heart Is (Oprah's Book Club (Paperback))\":\n",
        "    print('fail0')\n",
        "    test_pass = False\n",
        "  recommended_books = [\"I'll Be Seeing You\", 'The Weight of Water', 'The Surgeon', 'I Know This Much Is True']\n",
        "  recommended_books_dist = [0.8, 0.77, 0.77, 0.77]\n",
        "  for i in range(2): \n",
        "    if recommends[1][i][0] not in recommended_books:\n",
        "      print('Fail1')\n",
        "      test_pass = False\n",
        "    if abs(recommends[1][i][1] - recommended_books_dist[i]) >= 0.05:\n",
        "      print('Fail2')\n",
        "      test_pass = False\n",
        "  if test_pass:\n",
        "    print(\"You passed the challenge! 🎉🎉🎉🎉🎉\")\n",
        "  else:\n",
        "    print(\"You havn't passed yet. Keep trying!\")\n",
        "\n",
        "test_book_recommendation()"
      ],
      "execution_count": null,
      "outputs": [
        {
          "output_type": "stream",
          "text": [
            "539 The Lovely Bones: A Novel 0.7234864\n",
            "240 I Know This Much Is True 0.7677075\n",
            "597 The Surgeon 0.7699411\n",
            "614 The Weight of Water 0.77085835\n",
            "243 I'll Be Seeing You 0.8016211\n",
            "Where the Heart Is (Oprah's Book Club (Paperback))\n",
            "[[\"I'll Be Seeing You\", 0.8016210794448853], ['The Weight of Water', 0.7708583474159241], ['The Surgeon', 0.7699410915374756], ['I Know This Much Is True', 0.7677075266838074], ['The Lovely Bones: A Novel', 0.7234864234924316]]\n",
            "539 The Lovely Bones: A Novel 0.7234864\n",
            "240 I Know This Much Is True 0.7677075\n",
            "597 The Surgeon 0.7699411\n",
            "614 The Weight of Water 0.77085835\n",
            "243 I'll Be Seeing You 0.8016211\n",
            "You passed the challenge! 🎉🎉🎉🎉🎉\n"
          ],
          "name": "stdout"
        }
      ]
    }
  ]
}