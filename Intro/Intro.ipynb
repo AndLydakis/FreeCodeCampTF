{
 "cells": [
  {
   "cell_type": "code",
   "execution_count": 1,
   "metadata": {
    "collapsed": true
   },
   "outputs": [
    {
     "name": "stdout",
     "output_type": "stream",
     "text": [
      "(1,)\n",
      "tf.Tensor(1, shape=(), dtype=int32)\n",
      "(2, 1)\n",
      "tf.Tensor(2, shape=(), dtype=int32)\n"
     ]
    }
   ],
   "source": [
    "import tensorflow as tf\n",
    "\n",
    "rank1_tensor = tf.Variable([\"test\"], tf.string)\n",
    "rank2_tensor = tf.Variable([[\"test\"],[\"test2\"]], tf.string)\n",
    "\n",
    "print(rank1_tensor.shape)\n",
    "print(tf.rank(rank1_tensor))\n",
    "print(rank2_tensor.shape)\n",
    "print(tf.rank(rank2_tensor))"
   ]
  },
  {
   "cell_type": "markdown",
   "source": [
    "Flatten"
   ],
   "metadata": {
    "collapsed": false,
    "pycharm": {
     "name": "#%% md\n"
    }
   }
  },
  {
   "cell_type": "code",
   "execution_count": null,
   "outputs": [],
   "source": [
    "tensor1 = tf.ones((1, 2, 3))\n",
    "tensor2 = tf.reshape(tensor1, [2, 3, 1])\n",
    "tensor3 = tf.reshape(tensor2, [3, -13])"
   ],
   "metadata": {
    "collapsed": false,
    "pycharm": {
     "name": "#%%\n"
    }
   }
  }
 ],
 "metadata": {
  "kernelspec": {
   "display_name": "Python 3",
   "language": "python",
   "name": "python3"
  },
  "language_info": {
   "codemirror_mode": {
    "name": "ipython",
    "version": 2
   },
   "file_extension": ".py",
   "mimetype": "text/x-python",
   "name": "python",
   "nbconvert_exporter": "python",
   "pygments_lexer": "ipython2",
   "version": "2.7.6"
  }
 },
 "nbformat": 4,
 "nbformat_minor": 0
}